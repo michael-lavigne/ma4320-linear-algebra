{
 "cells": [
  {
   "cell_type": "markdown",
   "id": "7285007b-1c27-4016-ad8a-296f65bb2da5",
   "metadata": {},
   "source": [
    "__LU Factorization__\n",
    "\n",
    "If $A$ can be lower reduced to an upper-triangular matrix $U$, then $A$ can be factored into $A=L U$, where $L$ is lower triangular and invertible, and $U$ is upper triangular and row-echelon. LU-factorization is particularly important if, as often happens in business and industry, a series of equations $A x=$ $B_1, A x=B_2, \\dots, A x=B_k$, must be solved, each with the same coefficient matrix $A$. It is very efficient to solve the first system by Gaussian elimination, simultaneously creating an LU-factorization of $A$, and then using the factorization to solve the remaining systems by forward and back substitution."
   ]
  },
  {
   "cell_type": "markdown",
   "id": "9143b4ea-4ce3-47dd-9258-8f58d48f2831",
   "metadata": {},
   "source": [
    "__Problem 1__\n",
    "\n",
    "Consider the equation $A x=b$. If we have the $L U$ factorization $A=L U$, then the original equation becomes $L U x=b$. If we choose to call $U x=c$, then our equation splits up into to two more simply solved systems:\n",
    "\n",
    "$$\n",
    "U x=c \\text { and } L c=b\n",
    "$$\n",
    "\n",
    "Show why they together are equivalent to $A x=b$. Discuss why they are easier to solve separately."
   ]
  },
  {
   "cell_type": "markdown",
   "id": "74269300-e5d6-456e-a801-84a8496e1284",
   "metadata": {},
   "source": [
    "---\n",
    "\n",
    "<span style=\"color:magenta;\">__Response Block__</span>\n",
    "\n",
    "Your answer.\n",
    "\n",
    "---"
   ]
  },
  {
   "cell_type": "markdown",
   "id": "1f44ff61-d248-437f-b50f-395cc407b8f5",
   "metadata": {},
   "source": [
    "Let $A=\\left[\\begin{array}{ll}2 & 3 \\\\ 4 & 9\\end{array}\\right]$ and $b=\\left[\\begin{array}{c}1 \\\\ -1\\end{array}\\right]$. In the code cell below, define the $\\ell_{21}$ needed to eliminate below the first pivot and the elimination matrix $E_{21}$ that performs the row operation. \n"
   ]
  },
  {
   "cell_type": "code",
   "execution_count": null,
   "id": "06717dcf-9fe0-4f5f-aeb2-4e78f64e78af",
   "metadata": {},
   "outputs": [],
   "source": [
    "A= [2 3;\n",
    "    4 9;\n",
    "\n",
    "b=  [1;\n",
    "    -1]\n",
    "\n",
    "l21= #your answer\n",
    "\n",
    "E21= #your answer\n",
    "\n",
    "U= E21*A"
   ]
  },
  {
   "cell_type": "markdown",
   "id": "73bbc9cc-d3e0-47fb-86ee-828839fa155f",
   "metadata": {},
   "source": [
    "Now, solve $U\\mathbf c = \\mathbf b$ for $\\mathbf c$. Then, solve $U\\mathbf x = \\mathbf c$ for $\\mathbf x$. \n",
    "\n",
    "You can use a backslash to indicate left-multiplication by the inverse.\n",
    "\n",
    "e.g., $Q^{-1}\\mathbf y \\equiv$ ` Q\\y`"
   ]
  },
  {
   "cell_type": "code",
   "execution_count": null,
   "id": "8859ea8e-031c-4ea6-a32c-e6cee0442f68",
   "metadata": {},
   "outputs": [],
   "source": [
    "#your answer"
   ]
  },
  {
   "cell_type": "markdown",
   "id": "b53e5b47-9ee9-4d96-87b2-b94c0700300f",
   "metadata": {},
   "source": [
    "__Problem 2__\n",
    "\n",
    "In the 3 code blocks below, reduce the following matrix to upper-triangular form. We will call this result $U$. Record the elimination multipliers $\\ell_{ij}$ that are used in the process.\n",
    "\n",
    "$\n",
    "A=\\left[\\begin{array}{ccccc}\n",
    "1 & 2 & 3 \\\\ 2 & 3 & 1 \\\\ -2 & 3 & -2\n",
    "\\end{array}\\right]\n",
    "\\underrightarrow{\\ell_{21}= \\qquad} \\left[ \\phantom{\\begin{array}{ccccc}1 & 2 & 3 \\\\ 2 & 3 & 1 \\\\ -2 & 3 & -2\\end{array}}\\right]\n",
    "\\underrightarrow{\\ell_{31}= \\qquad} \\left[ \\phantom{\\begin{array}{ccccc}\n",
    "1 & 2 & 3 \\\\ 2 & 3 & 1 \\\\ -2 & 3 & -2\n",
    "\\end{array}}\\right]\n",
    "\\underrightarrow{\\ell_{32}= \\qquad} \\left[ \\phantom{\\begin{array}{ccccc}\n",
    "1 & 2 & 3 \\\\ 2 & 3 & 1 \\\\ -2 & 3 & -2\n",
    "\\end{array}}\\right]\n",
    "$"
   ]
  },
  {
   "cell_type": "code",
   "execution_count": null,
   "id": "861ab619-f19f-4e4d-88d3-659e4302d0e2",
   "metadata": {},
   "outputs": [],
   "source": [
    "# define A\n",
    "A = [1 2 3\n",
    "     2 3 1\n",
    "    -2 3 -2]\n",
    "\n",
    "# initialize U as a copy of A\n",
    "U = copy(A)\n",
    "\n",
    "l21 = 2 # (THE ELIMINATION MULTIPLIER)\n",
    "\n",
    "U[2,:] = U[2,:] - l21*U[1,:]\n",
    "\n",
    "display(U)"
   ]
  },
  {
   "cell_type": "code",
   "execution_count": null,
   "id": "189fcc6b-1d9d-4663-9194-11f7927c0a5b",
   "metadata": {},
   "outputs": [],
   "source": [
    "l31 = # (THE ELIMINATION MULTIPLIER)\n",
    "\n",
    "# U[?,:] = U[?,:] - l31*U[?,:]\n",
    "\n",
    "display(U)"
   ]
  },
  {
   "cell_type": "code",
   "execution_count": null,
   "id": "28c5d1ea-1351-420f-b7db-b7bfb7e34751",
   "metadata": {},
   "outputs": [],
   "source": [
    "l32 = # (THE ELIMINATION MULTIPLIER)\n",
    "\n",
    "# U[?,:] = U[?,:] - l31*U[?,:]\n",
    "\n",
    "display(U)"
   ]
  },
  {
   "cell_type": "markdown",
   "id": "af947da4-aa23-4de0-bed5-4db268bbd523",
   "metadata": {},
   "source": [
    "Finally, confirm that $A=LU$. Place the $\\ell$'s in a new matrix $L$ and confirm that multiplying $L$ and $U$ returns the original $A$."
   ]
  },
  {
   "cell_type": "code",
   "execution_count": null,
   "id": "96edf1c7-5185-41f9-ab75-4eb2963fa7af",
   "metadata": {},
   "outputs": [],
   "source": [
    "L = # Give me an L!\n",
    "\n",
    "display(L*U)"
   ]
  },
  {
   "cell_type": "markdown",
   "id": "706d389c-c852-4c0e-aa6d-c424c12aa775",
   "metadata": {},
   "source": [
    "__Problem 3__\n",
    "\n",
    "For a generic $3\\times 3$ matrix $A=\\left[\\begin{array}{lll}a_{11} & a_{12} & a_{13} \\\\ a_{21} & a_{22} & a_{23} \\\\ a_{31} & a_{32} & a_{33}\\end{array}\\right]$, what would multipliers $\\ell_{21}$ and $\\ell_{31}$ be? "
   ]
  },
  {
   "cell_type": "markdown",
   "id": "bc90c897-b717-4adb-a60d-662d4efc311d",
   "metadata": {},
   "source": [
    "---\n",
    "\n",
    "<span style=\"color:magenta;\">__Response Block__</span>\n",
    "\n",
    "$\\ell_{21} =$ `your answer`\n",
    "\n",
    "$\\ell_{31} =$ `your answer`\n",
    "\n",
    "---"
   ]
  },
  {
   "cell_type": "markdown",
   "id": "4e9d0701-ffe6-42ac-b517-7ae2d511c901",
   "metadata": {},
   "source": [
    "Once A has been reduced to $A\\to \\tilde{A} = \\left[\\begin{array}{lll}a_{11} & a_{12} & a_{13} \\\\ 0 & \\tilde a_{22} & \\tilde a_{23} \\\\0 & \\tilde a_{32} & \\tilde a_{33}\\end{array}\\right]$, what would $\\ell_{32}$ be?\n"
   ]
  },
  {
   "cell_type": "markdown",
   "id": "5351a55a-9870-4d91-ad0d-d88c361f665a",
   "metadata": {},
   "source": [
    "---\n",
    "\n",
    "<span style=\"color:magenta;\">__Response Block__</span>\n",
    "\n",
    "$\\ell_{32} =$ `your answer`\n",
    "\n",
    "---"
   ]
  },
  {
   "cell_type": "markdown",
   "id": "f22005d7-0796-484a-853e-6e38762d5204",
   "metadata": {},
   "source": [
    "In general, when eliminating in the $j^{th}$ column of\n",
    "\n",
    "$$\\tilde{A} = \\left[\\begin{array}{cc|ccc}\n",
    "a_{11}  & \\dots     & a_{1,j}           & \\dots     & a_{1,n} \\\\\n",
    "0       & \\ddots    & \\vdots            & \\dots     & \\vdots \\\\\n",
    "\\hline\n",
    "0       & 0         & \\tilde a_{j,j}    & \\dots     & \\tilde a_{j,n} \\\\\n",
    "\\vdots  & \\vdots    & \\vdots            & \\dots     & \\vdots \\\\\n",
    "0       & 0         & \\tilde a_{n,j}    & \\dots     & \\tilde a_{n,n} \\\\\n",
    "\\end{array}\\right],$$\n",
    "\n",
    "which positions need to be eliminated? What is the elimination multiplier used to eliminate the $ij$ position?"
   ]
  },
  {
   "cell_type": "markdown",
   "id": "8370d69c-a7dd-4ccc-98b3-51f5d3a683a7",
   "metadata": {},
   "source": [
    "---\n",
    "\n",
    "__Response Block__\n",
    "\n",
    "In the $j^{th}$ column, the $ij$ positions need to be eliminated for $i=$ `your answer` through `your answer`.\n",
    "\n",
    "The elimination multiplier will be $\\ell_{ij} =$ `your answer`\n",
    "\n",
    "---"
   ]
  },
  {
   "cell_type": "markdown",
   "id": "3dc34b71-d882-4d50-b20a-bc5d319dfe43",
   "metadata": {},
   "source": [
    "__Problem 4__\n",
    "\n",
    "Now, it's finally time to write our own LU-factorization function. In the code block below, fill in the blanks marked `### YOUR ANSWER ###` with your results from Problem 3. "
   ]
  },
  {
   "cell_type": "code",
   "execution_count": null,
   "id": "e634bfbf-3ed0-43bd-8ba3-53b4548253f6",
   "metadata": {},
   "outputs": [],
   "source": [
    "# define A\n",
    "A = [1.0 2.0 3.0\n",
    "     3.0 2.0 1.0\n",
    "    -2.0 3.0 -2.0]\n",
    "\n",
    "# extract dimension of A to n.\n",
    "# since A is square, we can take either the 1st or 2nd dimension.\n",
    "\n",
    "function myLUfunction(A)\n",
    "    n = size(A)[2]\n",
    "\n",
    "    # initialize U as a copy of A\n",
    "    U = copy(A)\n",
    "\n",
    "    # initialize L to be all zeros, then place 1's on diagonal\n",
    "    L = zeros(n,n)\n",
    "    for j=1:n\n",
    "        L[j,j]=1.0\n",
    "    end\n",
    "\n",
    "    # j is the column index. i is the row index\n",
    "    # outer for-loop runs through all n columns\n",
    "    for j=1:n\n",
    "        \n",
    "        #inner for-loop eliminates below each pivot,\n",
    "        # in the jth column, we start eliminating in the (???) row\n",
    "        for i= ### YOUR ANSWER ###\n",
    "        \n",
    "            #compute the ij multiplier and place it in L\n",
    "        \n",
    "            L[i,j]= ### YOUR ANSWER ###\n",
    "        \n",
    "            #overwrite ith row of U with new combination\n",
    "        \n",
    "            U[i,:]= ### YOUR ANSWER ###\n",
    "        \n",
    "        end\n",
    "    end\n",
    "\n",
    "    return L,U\n",
    "end\n",
    "\n",
    "L, U = myLUfun(A);\n",
    "        \n",
    "# display L and U\n",
    "print(\"L=\"); display(L);\n",
    "print(\"U=\"); display(U);\n",
    "\n",
    "#check that LU=A\n",
    "L*U - A"
   ]
  },
  {
   "cell_type": "markdown",
   "id": "7ff82f1b-18fd-4403-ba1c-91424967d040",
   "metadata": {},
   "source": [
    "Once the above cell returns that $LU - A$ is the zero matrix, run the cell below to try a bigger case. "
   ]
  },
  {
   "cell_type": "code",
   "execution_count": null,
   "id": "c342935f-6298-4f09-91c3-577e928eb901",
   "metadata": {},
   "outputs": [],
   "source": [
    "using LinearAlgebra\n",
    "\n",
    "# generate a 20x20 matrix of random numbers from the interval [0,1]\n",
    "A=rand(20,20)\n",
    "\n",
    "L, U = myLUfun(A)\n",
    "\n",
    "# display L and U if you want\n",
    "# print(\"L=\"); display(L);\n",
    "# print(\"U=\"); display(U);\n",
    "\n",
    "#check that LU=A. There may be small numerical errors\n",
    "L*U - A"
   ]
  },
  {
   "cell_type": "markdown",
   "id": "35aaf639-90e8-41bb-90b2-2bca7d1db671",
   "metadata": {},
   "source": [
    "__Problem 5__\n",
    "\n",
    "So the question remains: why should we prefer the LU factorization to just computing an inverse? \n",
    "\n",
    "We know that a matrix with parallel columns like $\\begin{bmatrix} 1 & 1 \\\\ 1 & 1\\end{bmatrix}$ does not have an inverse, but what if the columns are __almost parallel__?\n",
    "\n",
    "In the cell below, compute the inverse and the LU factorization of the matrix $\\begin{bmatrix} 1+\\varepsilon & 1 \\\\ 1 & 1\\end{bmatrix}$ for smaller and smaller $\\varepsilon$"
   ]
  },
  {
   "cell_type": "code",
   "execution_count": null,
   "id": "114f4208-7e10-4ee0-9d39-a74bf243666c",
   "metadata": {},
   "outputs": [],
   "source": [
    "A = [1.001 1;\n",
    "    1 1]\n",
    "\n",
    "print(\"A^{-1}=\");\n",
    "display(inv(A))\n",
    "\n",
    "L, U = myLUfun(A);\n",
    "\n",
    "print(\"L=\");\n",
    "display(L);\n",
    "print(\"U=\");\n",
    "display(U);"
   ]
  },
  {
   "cell_type": "markdown",
   "id": "b5346b6d-5be0-4d39-a399-941c81cca5dc",
   "metadata": {},
   "source": [
    "Now, in the cell below, discuss what issues emerge when computing the inverse of a near-singular matrix. What goes wrong with $A^{-1}$ as $\\varepsilon \\to 0$? Why do you think this happens? In what way is the LU-factorization better?"
   ]
  },
  {
   "cell_type": "markdown",
   "id": "41bdd2bd-a698-421d-b006-9b68f904eeac",
   "metadata": {},
   "source": [
    "---\n",
    "__Response Block__\n",
    "\n",
    "`your answer`\n",
    "\n",
    "---"
   ]
  },
  {
   "cell_type": "markdown",
   "id": "d2f3bce4-020d-44c0-999e-3cd7ae5178ae",
   "metadata": {},
   "source": [
    "In the cell below is embedded a desmos widget that shows what vector $\\textcolor{magenta}{\\mathbf x}$ gets mapped to the vector $\\textcolor{red}{\\mathbf b}$ via multiplication with $A$ (the columns of $A$ are shown in <span style=\"color:green;\">__green__</span>.\n",
    "\n",
    "Play around with the <span style=\"color:green;\"> columns of $A$</span>. As they become closer to parallel, what happens to the solution $\\textcolor{magenta}{\\mathbf x}$ to the equation $A\\textcolor{magenta}{\\mathbf x} = \\textcolor{red}{\\mathbf b}$?\n",
    "\n",
    "Use the transformation slider to see how $A$ transforms all of $\\mathbb R^2$. Why does it take such large coefficients $\\textcolor{magenta}{x_i}$ to reach a relatively small $A\\textcolor{magenta}{\\mathbf x} = \\textcolor{red}{\\mathbf b}$ using near-parallel columns?\n"
   ]
  },
  {
   "cell_type": "markdown",
   "id": "8bb7c92d-c779-432a-aa78-96e5e43a0856",
   "metadata": {},
   "source": [
    "---\n",
    "\n",
    "__Response Block__\n",
    "\n",
    "`Your Answer`\n",
    "\n",
    "---"
   ]
  },
  {
   "cell_type": "code",
   "execution_count": 5,
   "id": "843294b4-94f5-4f92-912c-109cfc5a6bba",
   "metadata": {},
   "outputs": [
    {
     "data": {
      "text/html": [
       "<iframe src=\"https://www.desmos.com/calculator/qmnuxf28w1?embed\" width=\"500\" height=\"500\" style=\"border: 1px solid #ccc\" frameborder=0></iframe>"
      ],
      "text/plain": [
       "HTML{String}(\"<iframe src=\\\"https://www.desmos.com/calculator/qmnuxf28w1?embed\\\" width=\\\"500\\\" height=\\\"500\\\" style=\\\"border: 1px solid #ccc\\\" frameborder=0></iframe>\")"
      ]
     },
     "execution_count": 5,
     "metadata": {},
     "output_type": "execute_result"
    }
   ],
   "source": [
    "HTML(\"\"\"<iframe src=\"https://www.desmos.com/calculator/qmnuxf28w1?embed\" width=\"500\" height=\"500\" style=\"border: 1px solid #ccc\" frameborder=0></iframe>\"\"\")"
   ]
  },
  {
   "cell_type": "code",
   "execution_count": null,
   "id": "252e2cc2-e4b7-4fda-a54f-f0dfa34d1a44",
   "metadata": {},
   "outputs": [],
   "source": []
  },
  {
   "cell_type": "markdown",
   "id": "86fa3d52-7058-40ee-920e-d6ef14d9a7a0",
   "metadata": {},
   "source": [
    "__EXTENSIONS__\n",
    "\n",
    "You've reached the end of the lab! For your enrichment, below are a few options for extensions to the work you've done above. "
   ]
  },
  {
   "cell_type": "markdown",
   "id": "98b99121-3463-4143-8d3e-6c558d77da2d",
   "metadata": {},
   "source": [
    "Extension #1: Gauss Jordan\n",
    "\n",
    "The function `muLUfun` that you developed earlier can be easily extended to continue elimination above the pivots. If $A$ is augmented with another matrix $B$, then Gauss-Jordan elimination will give you $[ A \\, | \\, B ] \\to [ I \\, | A^{-1}B ]$\n",
    "\n",
    "What should the function take in as variables? What should it output? "
   ]
  },
  {
   "cell_type": "code",
   "execution_count": null,
   "id": "26485cd8-6c3c-4103-bb7a-55ff2bd7ea65",
   "metadata": {},
   "outputs": [],
   "source": [
    "# define A\n",
    "A = [1.0 2.0 3.0\n",
    "     3.0 2.0 1.0\n",
    "    -2.0 3.0 -2.0]\n",
    "\n",
    "B = [ 1 0 0\n",
    "    0 1 0 \n",
    "    0 0 1]\n",
    "\n",
    "# extract dimension of A to n.\n",
    "# since A is square, we can take either the 1st or 2nd dimension.\n",
    "\n",
    "function myGJfunction(A, B)\n",
    "    n = size(A)[2]\n",
    "    \n",
    "    #augment A with B\n",
    "    C = [A B]\n",
    "\n",
    "    # j is the column index. i is the row index\n",
    "    # outer for-loop runs through all n columns\n",
    "    for j=1:n\n",
    "        \n",
    "        #inner for-loop eliminates below each pivot,\n",
    "        # in the jth column, we start eliminating in the (???) row\n",
    "        for i= (j+1):n\n",
    "            ### YOUR ANSWER ###\n",
    "        \n",
    "            C[i,:] = C[i,:] - (C[i,j]/C[j,j])C[j,:]\n",
    "        \n",
    "        end\n",
    "    end\n",
    "\n",
    "    \n",
    "    # Now a loop is needed to eliminate above the pivots\n",
    "    for j=1:n\n",
    "        \n",
    "        #inner for-loop eliminates below each pivot,\n",
    "        # in the jth column, we start eliminating in the (???) row\n",
    "        for i= (j+1):n\n",
    "            \n",
    "            ### YOUR ANSWER ###\n",
    "        \n",
    "        end\n",
    "    end\n",
    "\n",
    "    for i = 1:n\n",
    "        # Scale down all pivots to 1\n",
    "    end\n",
    "\n",
    "    return ### YOUR ANSWER HERE\n",
    "end\n",
    "\n"
   ]
  },
  {
   "cell_type": "markdown",
   "id": "0c5c8e0e-9d2c-46e0-b25d-6a30c196e6a6",
   "metadata": {},
   "source": [
    "Extension #2: Partial Pivoting\n",
    "\n",
    "LU-factorization in general is always done with \"partial pivoting\", where the row with the largest element below the pivot position is swapped into the pivot row. Using a large pivot helps reduce numerical errors. \n",
    "\n",
    "The function `muLUfun` that you developed earlier can be modified to accomodate partial pivoting."
   ]
  },
  {
   "cell_type": "code",
   "execution_count": null,
   "id": "06f86e90-c760-4520-ae58-1cd7d40e7ff2",
   "metadata": {},
   "outputs": [],
   "source": []
  }
 ],
 "metadata": {
  "kernelspec": {
   "display_name": "Julia 1.11.6",
   "language": "julia",
   "name": "julia-1.11"
  },
  "language_info": {
   "file_extension": ".jl",
   "mimetype": "application/julia",
   "name": "julia",
   "version": "1.11.6"
  }
 },
 "nbformat": 4,
 "nbformat_minor": 5
}
