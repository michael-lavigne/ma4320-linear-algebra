{
 "cells": [
  {
   "cell_type": "markdown",
   "id": "3ae548b8-6f2a-4a49-9bcc-5f50d84114a5",
   "metadata": {},
   "source": [
    "# Lab: Markov Matrices and their spectra\n",
    "\n",
    "\n",
    "In this lab you will further explore the properties of Markov Matrices and their spectra (i.e., eigen-stuff).\n",
    "\n",
    "All questions to which you should respond will appear in <span style=\"color:magenta;\"> magenta </span>. Your answer should be given in the markdown cell below immediately below it in <span style=\"color:green;\"> green </span>."
   ]
  },
  {
   "cell_type": "markdown",
   "id": "b149c22c-db6a-498c-bd6d-179ab0c14e11",
   "metadata": {},
   "source": [
    "## Eco-terrorisim is fun!\n",
    "\n",
    "Aspiring eco-terrorist Jack Hilton plans to release a population of sharks equipped with lasers into the Great Lakes to wreak havoc on the upper mid-west. His husband—a teacher at some science and math school—has agreed to help him sew chaos because it seems like good excuse to make his Linear Algebra students use Julia.\n",
    "\n",
    "![](jack_and_shark.png)\n",
    "\n",
    "Jack wants to determine where to release the sharks to as to ensure that they spread through the lake system the most quickly. "
   ]
  },
  {
   "cell_type": "markdown",
   "id": "f08b3523-3b18-43bf-adef-e975284189bd",
   "metadata": {},
   "source": [
    "First, run the cell below to load in the ```LinearAlgebra``` and ```Plots``` packages\n",
    "\n"
   ]
  },
  {
   "cell_type": "code",
   "execution_count": 33,
   "id": "c0774d85-8d73-4819-9ae9-2822474c80da",
   "metadata": {},
   "outputs": [],
   "source": [
    "using LinearAlgebra\n",
    "using Plots"
   ]
  },
  {
   "cell_type": "markdown",
   "id": "e6a82d4f-aef2-4be5-aba2-2b76c463f98a",
   "metadata": {},
   "source": [
    "Muahaha!!! All is going according to plan. \n",
    "\n",
    "The diagram below shows the map of the Great Lakes region. There is no direct waterway between Lake Superior and Lake Michigan that does not pass through Lake Huron. Furthermore, movement of sharks between Lake Ontario and Lake Erie is impossible due to Niagra Falls. The diagram shows the simplified topology of the lake system, along with the transition probabilities of a shark to move between any of the two connected lakes in a given month. \n",
    "\n",
    "\n",
    "![](great_lakes.png)\n",
    "\n",
    "Any given shark will move from lake $i$ to lake $j$ with probability $p_{ij}$. Therefore, if the distribution of sharks at month $t$ after release is given by $\\mathbf{x}_t$, then the evolution over time of the distribution of sharks is given by\n",
    "\n",
    "$$\\mathbf{x}_{t+1} = T\\mathbf{x}_t$$\n",
    "\n",
    "For now, neglect lake Ontario, since it is inaccessible. In the cell below, define the transition matrix ```T``` that will govern the movement of sharks between the four accessible lakes $V_1$, $V_2$, $V_3$, and $V_4$. "
   ]
  },
  {
   "cell_type": "code",
   "execution_count": null,
   "id": "7d2aaf2b-66e8-4601-91c2-8630e3679023",
   "metadata": {},
   "outputs": [],
   "source": [
    "T = #your code here"
   ]
  },
  {
   "cell_type": "markdown",
   "id": "44b45995-e13f-48c6-99d1-c7d4d89139e2",
   "metadata": {},
   "source": [
    "Recall the defining property of a Markov Matrix that **all column sums must equal 1**.\n",
    "\n",
    "<span style=\"color:magenta;\">\n",
    "What row vector $\\mathbf y^T$ can you left-multiply onto $T$ to check that $T$ was constructed properly? Use this to ensure that your transition matrix is properly constructed.\n",
    "</span>"
   ]
  },
  {
   "cell_type": "markdown",
   "id": "2f803429-7aec-4875-bbd1-c8a1e047e9f2",
   "metadata": {},
   "source": [
    "<span style=\"color:green;\">\n",
    "Your Answer:\n",
    "    $\\mathbf{y}^T = \\begin{bmatrix}\n",
    "    ? &\n",
    "    ? &\n",
    "    ? &\n",
    "    ?\n",
    "    \\end{bmatrix}$\n",
    "</span>"
   ]
  },
  {
   "cell_type": "markdown",
   "id": "e7b3f64b-c7e0-488c-aa5b-9bb79ff3d7c3",
   "metadata": {},
   "source": [
    "<span style=\"color:magenta;\"> Now, use the cell below to verify that your $T$ was well-constructed. </span>"
   ]
  },
  {
   "cell_type": "code",
   "execution_count": null,
   "id": "5d71b0f2-b782-4b4b-9900-a09d019f14dc",
   "metadata": {},
   "outputs": [],
   "source": []
  },
  {
   "cell_type": "markdown",
   "id": "11fc3fe4-e737-4a8d-a573-a644b3680cb8",
   "metadata": {},
   "source": [
    "In the cell below, initialize a vector ```x0``` of 100 sharks, beginning in the lake of your choosing. Then, run the following cell to see an animation of the shark distribution over time. "
   ]
  },
  {
   "cell_type": "code",
   "execution_count": null,
   "id": "c865bb67-35f2-4b49-971f-2d68220c8018",
   "metadata": {},
   "outputs": [],
   "source": [
    "x0 = # your code here"
   ]
  },
  {
   "cell_type": "code",
   "execution_count": null,
   "id": "d04d9196-1cfe-4490-a7d4-35e6c38c4fff",
   "metadata": {},
   "outputs": [],
   "source": [
    "@gif for i in 1:60\n",
    "    plot((T^i)*x0,\n",
    "        xlims = (0.5, 4.5), ylims = (0, 100)\n",
    "    )\n",
    "end"
   ]
  },
  {
   "cell_type": "markdown",
   "id": "9f0a623f-6ff1-4f5c-9d05-bb179b1c0694",
   "metadata": {},
   "source": [
    "Evidently, the distribution of sharks approaches a steady state over time.\n",
    "\n",
    "<span style=\"color:magenta;\"> In the cell below, compute $\\mathbf{x}_t$ for a very large $t$ to estimate the steady state $\\mathbf{x}^*$. This steady-state $\\mathbf{x}^*$ should be an **eigenvector** of $T$ associated with what eigenvalue? Confirm your claim with a computation.</span> "
   ]
  },
  {
   "cell_type": "code",
   "execution_count": null,
   "id": "9a7b4140-a9ba-4f3d-9fc1-897a771eff1a",
   "metadata": {},
   "outputs": [],
   "source": [
    "x_star= #your code"
   ]
  },
  {
   "cell_type": "markdown",
   "id": "f43710e2-47b4-45bf-9bf4-bedba3cd1feb",
   "metadata": {},
   "source": [
    "Evidently, the fastest way to sow chaos would be to initally distribute the sharks as $\\mathbf{x}_0 = \\mathbf{x}^*$. Unfortunately, Jack has to get home to Raleigh to good dinner, so he needs to determine the optimal lake in which to place all 100 sharks. \n",
    "\n",
    "In the cell below, run ```L, X = eigen(T)``` to find all the eigenvalues and eigenvectors of $T$. The eigenvalues will be placed in the vector ```L``` and the corresponding eigenvectors will be placed column-wise in the matrix ```X```.\n"
   ]
  },
  {
   "cell_type": "code",
   "execution_count": null,
   "id": "e8f09a69-e944-4fee-b6c6-6f1bf366350e",
   "metadata": {},
   "outputs": [],
   "source": []
  },
  {
   "cell_type": "markdown",
   "id": "1ead07f9-0dda-4753-b1c1-cad60a762f00",
   "metadata": {},
   "source": [
    "(**NOTE:** Julia inexplicably orders eigenvalues from *least to greatest*. This is not the convention in most settings. Be mindful of this as you proceed!)\n",
    "\n",
    "<span style=\"color:magenta;\">\n",
    "Run the following cell to see each of the \"eigen-distributions\" plotted. Note which one represents the equilibrium $\\mathbf{x}^*$.\n",
    "</span>"
   ]
  },
  {
   "cell_type": "code",
   "execution_count": null,
   "id": "32131c51-6453-452b-8910-02068c086d7c",
   "metadata": {},
   "outputs": [],
   "source": [
    "plot(X,\n",
    "    xlims = (0.5, 4.5), ylims = (-1, 1),\n",
    "    size = (1600, 1600),\n",
    "    thickness_scaling = 3\n",
    ")"
   ]
  },
  {
   "cell_type": "markdown",
   "id": "1836785f-8297-41c6-ada7-537f9d00982c",
   "metadata": {},
   "source": [
    "Since we believe that the equilibrium $\\mathbf{x}^*$ is some multiple of the eigenvector associated with $\\lambda = 1$, we should check this.\n",
    "\n",
    "<span style=\"color:magenta;\">What can you do with the eigenvector matrix $X$ to confirm that $\\mathbf{x}^* = \\alpha \\mathbf{x}_4$ for some $\\alpha$? Do this in the cell below. </span>"
   ]
  },
  {
   "cell_type": "markdown",
   "id": "71796c95-b384-43a5-8896-b8e6fa56ecae",
   "metadata": {},
   "source": [
    "<span style=\"color:green;\">Your answer. </span>"
   ]
  },
  {
   "cell_type": "code",
   "execution_count": 10,
   "id": "8b8cfee3-3d44-41cb-9def-52f2dcd6814a",
   "metadata": {},
   "outputs": [],
   "source": [
    "#your code here plz"
   ]
  },
  {
   "cell_type": "markdown",
   "id": "234193aa-02bc-4136-ae0f-4fb94f7be3a9",
   "metadata": {},
   "source": [
    "Each of the eigenvectors should decay according to its corresponding eigenvalue. Run the cell below to view how the system would behave if the initial vector $\\mathbf{x}_0$ was made to be one of the eigenvectors. "
   ]
  },
  {
   "cell_type": "code",
   "execution_count": null,
   "id": "30b86c61-9b67-4ba4-ba1a-b2dedfe6d3c6",
   "metadata": {},
   "outputs": [],
   "source": [
    "@gif for i in 1:36\n",
    "    plot((T^i)*X,\n",
    "        xlims = (0.5, 4.5), ylims = (-1, 1),\n",
    "        labels = [\"eigenvector 1\" \"eigenvector 2\" \"eigenvector 3\" \"eigenvector 4\"],\n",
    "        xticks=([1 2 3 4],[\"Superior\" \"Michigan\" \"Huron\" \"Erie\"])\n",
    "    )\n",
    "end"
   ]
  },
  {
   "cell_type": "markdown",
   "id": "2a6c14c8-300e-4db6-b28d-89d795c6f5bb",
   "metadata": {},
   "source": [
    "<span style=\"color:magenta;\">Why do all of the eigenmodes decay to 0 except the one associated with eigenvalue 1? </span>"
   ]
  },
  {
   "cell_type": "markdown",
   "id": "a648e2b8-8938-4230-b9d7-cd94914c33bd",
   "metadata": {},
   "source": [
    "<span style=\"color:green;\">Your answer. </span>"
   ]
  },
  {
   "cell_type": "markdown",
   "id": "3cc6b1f5-3a07-4245-9b86-373f29922a79",
   "metadata": {},
   "source": [
    "<span style=\"color:magenta;\">Which of the eigenmodes decays to 0 the fastest? Explain why this mode decays so rapidly in terms of the spectrum of the transition matrix **and** in terms of the geography of the lakes. </span>"
   ]
  },
  {
   "cell_type": "markdown",
   "id": "6b41de8d-a167-41f9-adac-58f120f98143",
   "metadata": {},
   "source": [
    "<span style=\"color:green;\">Your answer. </span>"
   ]
  },
  {
   "cell_type": "markdown",
   "id": "9f550cbc-1b38-4408-990b-de877c245676",
   "metadata": {},
   "source": [
    "Run the cell below to view to distribution of laser sharks over time if all 100 sharks were dumped into any one of the lakes. That is, $\\mathbf{x}_0 = 100\\mathbf{e}_j$ (i.e., all sharks are initially dumped into lake $j$)."
   ]
  },
  {
   "cell_type": "code",
   "execution_count": null,
   "id": "8fbf82ac-e4fc-4870-9b01-1fbfebd69965",
   "metadata": {},
   "outputs": [],
   "source": [
    "X0=100*[1 0 0 0;\n",
    "        0 1 0 0;\n",
    "        0 0 1 0;\n",
    "        0 0 0 1]\n",
    "\n",
    "@gif for i in 1:36\n",
    "    plot((T^i)*X0,\n",
    "        xlims = (0.5, 4.5), ylims = (0, 75),\n",
    "        labels = [\"Superior\" \"Michigan\" \"Huron\" \"Erie\"],\n",
    "        xticks=([1 2 3 4],[\"Superior\" \"Michigan\" \"Huron\" \"Erie\"])\n",
    "    )\n",
    "end"
   ]
  },
  {
   "cell_type": "markdown",
   "id": "d0f36581-ed7f-4e88-9365-3c67a8d1c046",
   "metadata": {},
   "source": [
    "Note that $T$ has 4 linearly independent eigenvectors. Therefore, any initial distribution of sharks can be expressed as a linear combination of those 4 eigenvectors.\n",
    "\n",
    "<span style=\"color:magenta;\"> Determine from the animation above into which lake the sharks should be placed in order to spread the fastest.</span>"
   ]
  },
  {
   "cell_type": "markdown",
   "id": "116eb5a0-028b-4876-8278-88b4204dc998",
   "metadata": {},
   "source": [
    "<span style=\"color:green;\"> Your answer here.</span>"
   ]
  },
  {
   "cell_type": "markdown",
   "id": "b55bc87f-b6de-409d-88e5-0ce64504ac42",
   "metadata": {},
   "source": [
    "<span style=\"color:magenta;\">For all $\\mathbf{x}_0 = 100\\mathbf{e}_j$, use the cell below to find the combinations $\\beta = (\\beta_1, \\beta_2, \\beta_3, \\beta_4)$ of the eigenvectors $X$ such that $$X\\beta = 100\\mathbf{e}_j$$ for all lakes $V_j$</span>"
   ]
  },
  {
   "cell_type": "code",
   "execution_count": null,
   "id": "3c1f7193-a8e5-453f-a5d0-f97974994f5c",
   "metadata": {},
   "outputs": [],
   "source": [
    "beta = #your code here"
   ]
  },
  {
   "cell_type": "markdown",
   "id": "d104bd0d-48a3-4d49-8058-b6b0f95aa8d6",
   "metadata": {},
   "source": [
    "<span style=\"color:magenta;\"> Describe, in terms of the coefficients $\\beta$ that you recovered, which initial distribution decays to the steady state the fastest. </span>"
   ]
  },
  {
   "cell_type": "markdown",
   "id": "c97f691c-5af8-4618-9a77-bf7d305f14e5",
   "metadata": {},
   "source": [
    "<span style=\"color:green;\"> Your answer here. </span>"
   ]
  }
 ],
 "metadata": {
  "kernelspec": {
   "display_name": "Julia 1.9.3",
   "language": "julia",
   "name": "julia-1.9"
  },
  "language_info": {
   "file_extension": ".jl",
   "mimetype": "application/julia",
   "name": "julia",
   "version": "1.9.3"
  }
 },
 "nbformat": 4,
 "nbformat_minor": 5
}
